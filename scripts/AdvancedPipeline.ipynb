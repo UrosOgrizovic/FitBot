{
 "cells": [
  {
   "cell_type": "code",
   "execution_count": 2,
   "metadata": {},
   "outputs": [
    {
     "name": "stderr",
     "output_type": "stream",
     "text": [
      "04/10/2021 17:34:18 - INFO - faiss -   Loading faiss.\n",
      "04/10/2021 17:34:20 - INFO - farm.modeling.prediction_head -   Better speed can be achieved with apex installed from https://www.github.com/nvidia/apex .\n"
     ]
    }
   ],
   "source": [
    "from haystack.reader.farm import FARMReader\n",
    "from haystack.reader.transformers import TransformersReader\n",
    "from haystack.utils import print_answers"
   ]
  },
  {
   "cell_type": "code",
   "execution_count": 17,
   "metadata": {},
   "outputs": [
    {
     "name": "stderr",
     "output_type": "stream",
     "text": [
      "04/10/2021 18:05:22 - INFO - haystack.document_store.faiss -   HNSW params: n_links: 128, efSearch: 20, efConstruction: 80\n"
     ]
    }
   ],
   "source": [
    "from haystack.document_store.faiss import FAISSDocumentStore\n",
    "\n",
    "document_store = FAISSDocumentStore(faiss_index_factory_str=\"HNSW\")"
   ]
  },
  {
   "cell_type": "code",
   "execution_count": 12,
   "metadata": {},
   "outputs": [],
   "source": [
    "from lxml import etree\n",
    "from lxml.etree import tostring\n",
    "\n",
    "input_file_path = '/Users/sava/Code/FitBot/web-app/static/Wikipedia-Strength-Training.xml'\n",
    "\n",
    "tree = etree.parse(input_file_path)\n",
    "root = tree.getroot()\n",
    "\n",
    "document_dictionaries = []\n",
    "# iterate through all the titles\n",
    "for text_node in root.findall(\".//text\", namespaces=root.nsmap)[:20]:\n",
    "    document_dictionaries.append({'text': text_node.text[:200], 'meta': None})\n",
    "\n",
    "document_store.write_documents(document_dictionaries)"
   ]
  },
  {
   "cell_type": "code",
   "execution_count": 18,
   "metadata": {},
   "outputs": [],
   "source": [
    "from haystack.retriever.dense import DensePassageRetriever\n",
    "retriever = DensePassageRetriever(document_store=document_store,\n",
    "                                  query_embedding_model=\"facebook/dpr-question_encoder-single-nq-base\",\n",
    "                                  passage_embedding_model=\"facebook/dpr-ctx_encoder-single-nq-base\",\n",
    "                                  max_seq_len_query=64,\n",
    "                                  max_seq_len_passage=256,\n",
    "                                  batch_size=16,\n",
    "                                  use_gpu=True,\n",
    "                                  embed_title=True,\n",
    "                                  use_fast_tokenizers=True)\n",
    "# document_store.update_embeddings(retriever)"
   ]
  },
  {
   "cell_type": "code",
   "execution_count": 14,
   "metadata": {},
   "outputs": [
    {
     "name": "stderr",
     "output_type": "stream",
     "text": [
      "04/10/2021 17:43:55 - INFO - farm.utils -   Using device: CPU \n",
      "04/10/2021 17:43:55 - INFO - farm.utils -   Number of GPUs: 0\n",
      "04/10/2021 17:43:56 - INFO - farm.utils -   Distributed Training: False\n",
      "04/10/2021 17:43:56 - INFO - farm.utils -   Automatic Mixed Precision: None\n",
      "Some weights of RobertaModel were not initialized from the model checkpoint at deepset/roberta-base-squad2 and are newly initialized: ['roberta.pooler.dense.weight', 'roberta.pooler.dense.bias']\n",
      "You should probably TRAIN this model on a down-stream task to be able to use it for predictions and inference.\n",
      "04/10/2021 17:44:12 - WARNING - farm.utils -   ML Logging is turned off. No parameters, metrics or artifacts will be logged to MLFlow.\n",
      "04/10/2021 17:44:12 - INFO - farm.utils -   Using device: CPU \n",
      "04/10/2021 17:44:12 - INFO - farm.utils -   Number of GPUs: 0\n",
      "04/10/2021 17:44:12 - INFO - farm.utils -   Distributed Training: False\n",
      "04/10/2021 17:44:12 - INFO - farm.utils -   Automatic Mixed Precision: None\n",
      "04/10/2021 17:44:13 - INFO - farm.infer -   Got ya 3 parallel workers to do inference ...\n",
      "04/10/2021 17:44:13 - INFO - farm.infer -    0    0    0 \n",
      "04/10/2021 17:44:13 - INFO - farm.infer -   /w\\  /w\\  /w\\\n",
      "04/10/2021 17:44:13 - INFO - farm.infer -   /'\\  / \\  /'\\\n",
      "04/10/2021 17:44:13 - INFO - farm.infer -       \n"
     ]
    }
   ],
   "source": [
    "reader = FARMReader(model_name_or_path=\"deepset/roberta-base-squad2\", use_gpu=True)\n"
   ]
  },
  {
   "cell_type": "code",
   "execution_count": 15,
   "metadata": {},
   "outputs": [],
   "source": [
    "from haystack.pipeline import ExtractiveQAPipeline\n",
    "pipe = ExtractiveQAPipeline(reader, retriever)"
   ]
  },
  {
   "cell_type": "code",
   "execution_count": 19,
   "metadata": {},
   "outputs": [
    {
     "name": "stderr",
     "output_type": "stream",
     "text": [
      "Creating Embeddings: 100%|██████████| 1/1 [00:06<00:00,  6.23s/ Batches]\n",
      "Inferencing Samples: 100%|██████████| 1/1 [00:08<00:00,  8.12s/ Batches]\n",
      "Inferencing Samples: 100%|██████████| 1/1 [00:01<00:00,  1.01s/ Batches]\n",
      "Inferencing Samples: 100%|██████████| 1/1 [00:00<00:00,  1.10 Batches/s]\n",
      "Inferencing Samples: 100%|██████████| 1/1 [00:01<00:00,  1.09s/ Batches]\n",
      "Inferencing Samples: 100%|██████████| 1/1 [00:01<00:00,  1.16s/ Batches]\n",
      "Inferencing Samples: 100%|██████████| 1/1 [00:00<00:00,  1.28 Batches/s]\n",
      "Inferencing Samples: 100%|██████████| 1/1 [00:00<00:00,  1.17 Batches/s]\n",
      "Inferencing Samples: 100%|██████████| 1/1 [00:00<00:00,  1.32 Batches/s]\n",
      "Inferencing Samples: 100%|██████████| 1/1 [00:00<00:00,  1.31 Batches/s]\n",
      "Inferencing Samples: 100%|██████████| 1/1 [00:00<00:00,  1.29 Batches/s]"
     ]
    },
    {
     "name": "stdout",
     "output_type": "stream",
     "text": [
      "[   {   'answer': 'Physical fitness',\n",
      "        'context': '[Category:Determinants of health]]\\n'\n",
      "                   '[[Category:Hobbies]]\\n'\n",
      "                   '[[Category:Management of obesity]]\\n'\n",
      "                   '[[Category:Physical fitness]]\\n'\n",
      "                   '[[Category:Recreation]]\\n'\n",
      "                   '[[Cat'},\n",
      "    {   'answer': 'Endurance training',\n",
      "        'context': '{{Other uses}}\\n'\n",
      "                   '[[File:Endurance training for Mt Carstensz '\n",
      "                   'Pyramid.JPG|thumb|Twins doing endurance trek at the '\n",
      "                   'foothills of Himalayas]]\\n'\n",
      "                   '{{short descrip'},\n",
      "    {   'answer': 'Physical activity',\n",
      "        'context': '[[File:TaipeiMetro-Cleaner.JPG|thumb|Physical activity is '\n",
      "                   'not just [[exercise]]. It includes other activities that '\n",
      "                   'involve movement; for example clean'},\n",
      "    {   'answer': \"Cardiorespiratory fitness''' ('''CRF''') refers to the \"\n",
      "                  'ability of the [[circulatory system|circulatory]] and '\n",
      "                  '[[respiratory system]]s to supply [[oxygen',\n",
      "        'context': \"'Cardiorespiratory fitness''' ('''CRF''') refers to the \"\n",
      "                   'ability of the [[circulatory system|circulatory]] and '\n",
      "                   '[[respiratory system]]s to supply [[oxygen'},\n",
      "    {   'answer': 'Cardiovascular fitness',\n",
      "        'context': \"'''Cardiovascular fitness''' is a health-related component \"\n",
      "                   'of [[physical fitness]] that is brought about by sustained '\n",
      "                   'physical activity.<ref>{{cite we'}]\n"
     ]
    },
    {
     "name": "stderr",
     "output_type": "stream",
     "text": [
      "\n"
     ]
    }
   ],
   "source": [
    "prediction = pipe.run(query=\"What is stamina?\", top_k_retriever=10, top_k_reader=5)\n",
    "print_answers(prediction, details=\"minimal\")"
   ]
  }
 ],
 "metadata": {
  "file_extension": ".py",
  "kernelspec": {
   "display_name": "Python 3",
   "language": "python",
   "name": "python3"
  },
  "language_info": {
   "codemirror_mode": {
    "name": "ipython",
    "version": 3
   },
   "file_extension": ".py",
   "mimetype": "text/x-python",
   "name": "python",
   "nbconvert_exporter": "python",
   "pygments_lexer": "ipython3",
   "version": "3.7.3"
  },
  "mimetype": "text/x-python",
  "name": "python",
  "npconvert_exporter": "python",
  "pygments_lexer": "ipython3",
  "version": 3
 },
 "nbformat": 4,
 "nbformat_minor": 2
}
